{
  "nbformat": 4,
  "nbformat_minor": 0,
  "metadata": {
    "colab": {
      "provenance": [],
      "machine_shape": "hm"
    },
    "kernelspec": {
      "name": "python3",
      "display_name": "Python 3"
    },
    "language_info": {
      "name": "python"
    }
  },
  "cells": [
    {
      "cell_type": "markdown",
      "source": [
        "#Install DeepFace"
      ],
      "metadata": {
        "id": "Jy5n6O7ZDOTv"
      }
    },
    {
      "cell_type": "code",
      "execution_count": null,
      "metadata": {
        "id": "lhaK395H0900"
      },
      "outputs": [],
      "source": [
        "from IPython.display import clear_output\n",
        "%pip install deepface\n",
        "clear_output()\n",
        "print(\"DeepFace installed\")"
      ]
    },
    {
      "cell_type": "markdown",
      "source": [
        "#Import Libraries"
      ],
      "metadata": {
        "id": "msVJPcI92mrY"
      }
    },
    {
      "cell_type": "code",
      "source": [
        "import os\n",
        "import csv\n",
        "import sqlite3\n",
        "import zipfile\n",
        "import numpy as np\n",
        "import pandas as pd\n",
        "from PIL import Image\n",
        "from tqdm import tqdm\n",
        "from deepface import DeepFace\n",
        "from sklearn.metrics import pairwise_distances"
      ],
      "metadata": {
        "id": "1jTc_JKL2lwz"
      },
      "execution_count": null,
      "outputs": []
    },
    {
      "cell_type": "markdown",
      "source": [
        "#Connect to Google Drive"
      ],
      "metadata": {
        "id": "TNK9xl4x46sh"
      }
    },
    {
      "cell_type": "code",
      "source": [
        "from google.colab import drive\n",
        "drive.mount('/content/drive')"
      ],
      "metadata": {
        "id": "yrONd-8c44ha"
      },
      "execution_count": null,
      "outputs": []
    },
    {
      "cell_type": "markdown",
      "source": [
        "#Specify Paths"
      ],
      "metadata": {
        "id": "cwDCQG713qN3"
      }
    },
    {
      "cell_type": "code",
      "source": [
        "# Change the paths to get/store files in your Google Drive\n",
        "train_zip_path = '/content/drive/MyDrive/Colab Notebooks/data/train_224.zip'\n",
        "test_zip_path = '/content/drive/MyDrive/Colab Notebooks/data/test_224.zip'\n",
        "train_images_path = '/content/train_224'\n",
        "test_images_path = '/content/test_224'\n",
        "train_database_path = '/content/drive/MyDrive/Colab Notebooks/database/traindb.db'\n",
        "test_database_path = '/content/drive/MyDrive/Colab Notebooks/database/testdb.db'\n",
        "crops_num_csv = '/content/drive/MyDrive/Colab Notebooks/csv/crops_num.csv'\n",
        "category_csv = '/content/drive/MyDrive/Colab Notebooks/csv/category.csv'\n",
        "predicted_labels_csv = '/content/drive/MyDrive/Colab Notebooks/csv/predicted_labels.csv'"
      ],
      "metadata": {
        "id": "IkBL7W2r3URS"
      },
      "execution_count": 6,
      "outputs": []
    },
    {
      "cell_type": "markdown",
      "source": [
        "#Unzip Cropped Train and Test"
      ],
      "metadata": {
        "id": "6iNTwymCDFuT"
      }
    },
    {
      "cell_type": "code",
      "source": [
        "with zipfile.ZipFile(train_zip_path) as z:\n",
        "    z.extractall('')\n",
        "with zipfile.ZipFile(test_zip_path) as z:\n",
        "    z.extractall('')"
      ],
      "metadata": {
        "id": "w4QY4lZP2XRc"
      },
      "execution_count": 5,
      "outputs": []
    },
    {
      "cell_type": "markdown",
      "source": [
        "#Generate Train Embeddings\n"
      ],
      "metadata": {
        "id": "3-muki6P-DCT"
      }
    },
    {
      "cell_type": "code",
      "source": [
        "# Connect to database\n",
        "conn = sqlite3.connect(train_database_path)\n",
        "cursor = conn.cursor()\n",
        "\n",
        "# Create tables if they don't exist\n",
        "cursor.execute('''CREATE TABLE IF NOT EXISTS face_meta (ID INTEGER PRIMARY KEY, IMG_NAME TEXT, EMBEDDING BLOB)''')\n",
        "\n",
        "# Iterate through image paths and store embeddings\n",
        "facial_img_paths = []\n",
        "for root, directory, files in os.walk(train_images_path):\n",
        "    for f in files:\n",
        "        if '.jpg' in f:\n",
        "            facial_img_paths.append(os.path.join(root, f))\n",
        "\n",
        "\n",
        "for i, facial_img_path in enumerate(tqdm(facial_img_paths)):\n",
        "    embedding = DeepFace.represent(img_path=facial_img_path, model_name=\"SFace\", detector_backend='skip')[0][\"embedding\"]\n",
        "    img_name = os.path.basename(facial_img_path).split('.')[0]\n",
        "    embedding_array = np.array(embedding)\n",
        "    embedding_blob = embedding_array.tobytes()\n",
        "\n",
        "    # Insert data into database\n",
        "    cursor.execute('INSERT INTO face_meta (ID, IMG_NAME, EMBEDDING) VALUES (?, ?, ?)', (i, img_name, embedding_blob))\n",
        "\n",
        "conn.commit()\n",
        "conn.close()"
      ],
      "metadata": {
        "colab": {
          "base_uri": "https://localhost:8080/"
        },
        "id": "QVun1WoTYBKj",
        "outputId": "25241986-2e8d-4f5b-dfd1-025283ed8d1b"
      },
      "execution_count": 8,
      "outputs": [
        {
          "output_type": "stream",
          "name": "stderr",
          "text": [
            "100%|██████████| 68592/68592 [13:13<00:00, 86.47it/s]\n"
          ]
        }
      ]
    },
    {
      "cell_type": "markdown",
      "source": [
        "#Generate Test Embeddings"
      ],
      "metadata": {
        "id": "T4lj8fEL-AG6"
      }
    },
    {
      "cell_type": "code",
      "source": [
        "# Connect to database\n",
        "conn = sqlite3.connect(test_database_path)\n",
        "cursor = conn.cursor()\n",
        "\n",
        "# Create tables if they don't exist\n",
        "cursor.execute('''CREATE TABLE IF NOT EXISTS face_meta (ID INTEGER PRIMARY KEY, IMG_NAME TEXT, EMBEDDING BLOB)''')\n",
        "\n",
        "# Iterate through image paths and store embeddings\n",
        "filenames = [f for f in os.listdir(test_images_path) if f.endswith('.jpg')]\n",
        "facial_img_paths = []\n",
        "for i in range(len(filenames)):\n",
        "    facial_img_paths.append(f'/content/test_224/{i}.jpg')\n",
        "\n",
        "for i, facial_img_path in enumerate(tqdm(facial_img_paths)):\n",
        "    embedding = DeepFace.represent(img_path=facial_img_path, model_name=\"SFace\", detector_backend='skip')[0][\"embedding\"]\n",
        "    img_name = os.path.basename(facial_img_path).split('.')[0]\n",
        "    embedding_array = np.array(embedding)\n",
        "    embedding_blob = embedding_array.tobytes()\n",
        "    cursor.execute('INSERT INTO face_meta (ID, IMG_NAME, EMBEDDING) VALUES (?, ?, ?)', (i, img_name, embedding_blob))\n",
        "\n",
        "conn.commit()\n",
        "conn.close()"
      ],
      "metadata": {
        "colab": {
          "base_uri": "https://localhost:8080/"
        },
        "id": "Tue5N0bQMWDS",
        "outputId": "fdf5cec6-820c-4958-e1c6-a1f00f081ce8"
      },
      "execution_count": 9,
      "outputs": [
        {
          "output_type": "stream",
          "name": "stderr",
          "text": [
            "100%|██████████| 7737/7737 [01:26<00:00, 89.24it/s]\n"
          ]
        }
      ]
    },
    {
      "cell_type": "markdown",
      "source": [
        "#Load Train Database into Pandas Data Frame"
      ],
      "metadata": {
        "id": "WaLSAVoMBakv"
      }
    },
    {
      "cell_type": "code",
      "source": [
        "conn = sqlite3.connect(train_database_path)\n",
        "cursor = conn.cursor()\n",
        "\n",
        "select_statement = 'select img_name, embedding from face_meta'\n",
        "results = cursor.execute(select_statement)\n",
        "\n",
        "instances = []\n",
        "for result in results:\n",
        "    img_name = result[0]\n",
        "    embedding_bytes = result[1]\n",
        "    embedding = np.frombuffer(embedding_bytes, dtype = 'float64')\n",
        "\n",
        "    instance = []\n",
        "    instance.append(img_name)\n",
        "    instance.append(embedding)\n",
        "    instances.append(instance)\n",
        "\n",
        "train_df = pd.DataFrame(instances, columns = ['img_name', 'embedding'])\n",
        "conn.commit()\n",
        "conn.close()\n",
        "\n",
        "print(train_df['embedding'])"
      ],
      "metadata": {
        "colab": {
          "base_uri": "https://localhost:8080/"
        },
        "id": "4lJ5rSRlK9iG",
        "outputId": "67c6de47-8eac-4c12-fc17-13f98d82df41"
      },
      "execution_count": 10,
      "outputs": [
        {
          "output_type": "stream",
          "name": "stdout",
          "text": [
            "0        [-0.7855247259140015, 0.822955310344696, 1.848...\n",
            "1        [-0.6390532851219177, 0.9139964580535889, -0.6...\n",
            "2        [-0.36544084548950195, 0.05464779958128929, -0...\n",
            "3        [-1.0158979892730713, 0.23610854148864746, 0.5...\n",
            "4        [0.5652865171432495, -1.86287260055542, 0.2145...\n",
            "                               ...                        \n",
            "68587    [-0.8820852041244507, -1.7068018913269043, -0....\n",
            "68588    [-0.8508542776107788, 0.0733473151922226, -0.5...\n",
            "68589    [-0.9522559642791748, -0.2867908179759979, 0.2...\n",
            "68590    [-1.2297043800354004, 0.49487999081611633, 0.1...\n",
            "68591    [-0.44406208395957947, -0.39389684796333313, 0...\n",
            "Name: embedding, Length: 68592, dtype: object\n"
          ]
        }
      ]
    },
    {
      "cell_type": "markdown",
      "source": [
        "#Load Test Database into Pandas Data Frame"
      ],
      "metadata": {
        "id": "NNAR3buoBiew"
      }
    },
    {
      "cell_type": "code",
      "source": [
        "conn = sqlite3.connect(test_database_path)\n",
        "cursor = conn.cursor()\n",
        "\n",
        "select_statement = 'select img_name, embedding from face_meta'\n",
        "results = cursor.execute(select_statement)\n",
        "\n",
        "instances = []\n",
        "for result in results:\n",
        "    img_name = result[0]\n",
        "    embedding_bytes = result[1]\n",
        "    embedding = np.frombuffer(embedding_bytes, dtype = 'float64')\n",
        "\n",
        "    instance = []\n",
        "    instance.append(img_name)\n",
        "    instance.append(embedding)\n",
        "    instances.append(instance)\n",
        "\n",
        "test_df = pd.DataFrame(instances, columns = ['img_name', 'embedding'])\n",
        "conn.commit()\n",
        "conn.close()\n",
        "\n",
        "print(test_df['embedding'])"
      ],
      "metadata": {
        "id": "qzBUHL66LADa",
        "colab": {
          "base_uri": "https://localhost:8080/"
        },
        "outputId": "351e0cda-6e4c-4167-d4f0-3cda0b3214e1"
      },
      "execution_count": 11,
      "outputs": [
        {
          "output_type": "stream",
          "name": "stdout",
          "text": [
            "0       [-0.47111958265304565, -0.07002589106559753, 0...\n",
            "1       [-0.35302120447158813, -0.7184938192367554, 0....\n",
            "2       [0.3281221091747284, -0.14927883446216583, 0.3...\n",
            "3       [0.04830002784729004, -0.11965912580490112, 0....\n",
            "4       [-0.4777531921863556, -0.2088930606842041, 0.4...\n",
            "                              ...                        \n",
            "7732    [-1.2303379774093628, -0.1131342202425003, -0....\n",
            "7733    [-0.9727636575698853, -0.7996971011161804, -1....\n",
            "7734    [1.0379232168197632, 0.26702556014060974, 0.02...\n",
            "7735    [0.42745551466941833, -0.02320195734500885, 0....\n",
            "7736    [-0.695655107498169, 0.14255203306674957, 0.98...\n",
            "Name: embedding, Length: 7737, dtype: object\n"
          ]
        }
      ]
    },
    {
      "cell_type": "markdown",
      "source": [
        "#Calculate Best Matches"
      ],
      "metadata": {
        "id": "CuH4zaQABkyZ"
      }
    },
    {
      "cell_type": "code",
      "source": [
        "test_embeddings = np.stack(test_df['embedding'].values)\n",
        "train_embeddings = np.stack(train_df['embedding'].values)\n",
        "\n",
        "# Calculate all pairwise Euclidean distances\n",
        "distances = pairwise_distances(test_embeddings, train_embeddings, metric=\"cosine\")\n",
        "\n",
        "# Find the index and value of the minimum distance for each test_embedding\n",
        "min_distance_indices = np.argmin(distances, axis=1)\n",
        "min_distances = np.min(distances, axis=1)\n",
        "\n",
        "# Retrieve the corresponding best match names from train_df\n",
        "best_match_names = train_df.iloc[min_distance_indices]['img_name'].values\n",
        "\n",
        "# Pair each test image name with its best match name and the minimum distance\n",
        "best_matches = list(zip(test_df['img_name'], best_match_names, min_distances))\n",
        "\n",
        "# Print the first 10 best matches\n",
        "print(best_matches[:10])"
      ],
      "metadata": {
        "id": "tVJIYCxcFl1j"
      },
      "execution_count": null,
      "outputs": []
    },
    {
      "cell_type": "markdown",
      "source": [
        "#Extract Best Matches for Test Images"
      ],
      "metadata": {
        "id": "5q-Djpjv6Bn-"
      }
    },
    {
      "cell_type": "code",
      "source": [
        "num_crops = []\n",
        "with open(crops_num_csv, newline='') as csvfile:\n",
        "    reader = csv.reader(csvfile)\n",
        "    next(reader)\n",
        "    for row in reader:\n",
        "        if len(row) >= 2:\n",
        "            num_crops.append(int(row[1]))\n",
        "\n",
        "print(num_crops)\n",
        "print(len(num_crops))\n",
        "\n",
        "new_best_matches = []\n",
        "current_start = 0\n",
        "for image_idx in range(0, len(num_crops)):\n",
        "    shortest_distance = np.inf\n",
        "    best_predicted_label_idx = None\n",
        "\n",
        "    for crop_idx in range(current_start, current_start + num_crops[image_idx]):\n",
        "        distance = best_matches[crop_idx][2]\n",
        "        if distance < shortest_distance:\n",
        "            shortest_distance = distance\n",
        "            best_predicted_label_idx = crop_idx\n",
        "\n",
        "    new_best_matches.append(best_matches[best_predicted_label_idx])\n",
        "    current_start += num_crops[image_idx]"
      ],
      "metadata": {
        "id": "5YtP4K-78C7T"
      },
      "execution_count": null,
      "outputs": []
    },
    {
      "cell_type": "markdown",
      "source": [
        "#Write Predicted Labels to CSV File"
      ],
      "metadata": {
        "id": "ad6FQygD6tl5"
      }
    },
    {
      "cell_type": "code",
      "source": [
        "# create index to label map from category csv\n",
        "category_df = pd.read_csv(category_csv)\n",
        "num_classes = category_df['Category'].nunique()\n",
        "index_to_label = {row[0]: row[1] for row in category_df.itertuples(index=False)}\n",
        "\n",
        "# extract prediected labels\n",
        "pred_labels = []\n",
        "for best_match in new_best_matches:\n",
        "    pred_label = index_to_label[int(best_match[1].split('_')[0])]\n",
        "    pred_labels.append(pred_label)\n",
        "\n",
        "# print out the predicted labels for reference\n",
        "print(len(new_best_matches))\n",
        "for i, pred_label in enumerate(pred_labels):\n",
        "    print(f\"{i:<4} {pred_label}\")\n",
        "\n",
        "# write csv file\n",
        "with open(predicted_labels_csv, mode='w', newline='') as file:\n",
        "    writer = csv.writer(file)\n",
        "    writer.writerow(['Id', 'Category'])\n",
        "    cnt = 0\n",
        "    for label in pred_labels:\n",
        "        writer.writerow([cnt, label])\n",
        "        cnt += 1\n",
        "\n",
        "print(f'CSV file \"{predicted_labels_csv}\" has been written successfully.')"
      ],
      "metadata": {
        "id": "DHQJxfbXlPXm"
      },
      "execution_count": null,
      "outputs": []
    }
  ]
}